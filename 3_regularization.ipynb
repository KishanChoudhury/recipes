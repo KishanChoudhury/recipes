{
 "cells": [
  {
   "cell_type": "markdown",
   "metadata": {
    "colab_type": "text",
    "id": "kR-4eNdK6lYS"
   },
   "source": [
    "Deep Learning\n",
    "=============\n",
    "\n",
    "Assignment 3\n",
    "------------\n",
    "\n",
    "Previously in `2_fullyconnected.ipynb`, you trained a logistic regression and a neural network model.\n",
    "\n",
    "The goal of this assignment is to explore regularization techniques."
   ]
  },
  {
   "cell_type": "code",
   "execution_count": 2,
   "metadata": {
    "cellView": "both",
    "colab": {
     "autoexec": {
      "startup": false,
      "wait_interval": 0
     }
    },
    "colab_type": "code",
    "id": "JLpLa8Jt7Vu4"
   },
   "outputs": [
    {
     "name": "stderr",
     "output_type": "stream",
     "text": [
      "C:\\Program Files\\Microsoft SQL Server\\MSSQL14.MSSQLSERVER\\PYTHON_SERVICES\\lib\\site-packages\\h5py\\__init__.py:34: FutureWarning: Conversion of the second argument of issubdtype from `float` to `np.floating` is deprecated. In future, it will be treated as `np.float64 == np.dtype(float).type`.\n",
      "  from ._conv import register_converters as _register_converters\n"
     ]
    }
   ],
   "source": [
    "# These are all the modules we'll be using later. Make sure you can import them\n",
    "# before proceeding further.\n",
    "from __future__ import print_function\n",
    "import numpy as np\n",
    "import tensorflow as tf\n",
    "from six.moves import cPickle as pickle"
   ]
  },
  {
   "cell_type": "markdown",
   "metadata": {
    "colab_type": "text",
    "id": "1HrCK6e17WzV"
   },
   "source": [
    "First reload the data we generated in `1_notmnist.ipynb`."
   ]
  },
  {
   "cell_type": "code",
   "execution_count": 7,
   "metadata": {
    "cellView": "both",
    "colab": {
     "autoexec": {
      "startup": false,
      "wait_interval": 0
     },
     "output_extras": [
      {
       "item_id": 1
      }
     ]
    },
    "colab_type": "code",
    "executionInfo": {
     "elapsed": 11777,
     "status": "ok",
     "timestamp": 1449849322348,
     "user": {
      "color": "",
      "displayName": "",
      "isAnonymous": false,
      "isMe": true,
      "permissionId": "",
      "photoUrl": "",
      "sessionId": "0",
      "userId": ""
     },
     "user_tz": 480
    },
    "id": "y3-cj1bpmuxc",
    "outputId": "e03576f1-ebbe-4838-c388-f1777bcc9873"
   },
   "outputs": [
    {
     "name": "stdout",
     "output_type": "stream",
     "text": [
      "Training set (200000, 28, 28) (200000,)\n",
      "Validation set (10000, 28, 28) (10000,)\n",
      "Test set (10000, 28, 28) (10000,)\n"
     ]
    }
   ],
   "source": [
    "import os\n",
    "data_root = r\"D:\\study\\DeepLearning\\NotMnist\"\n",
    "pickle_file = os.path.join(data_root,'notMNIST.pickle')\n",
    "\n",
    "\n",
    "with open(pickle_file, 'rb') as f:\n",
    "  save = pickle.load(f)\n",
    "  train_dataset = save['train_dataset']\n",
    "  train_labels = save['train_labels']\n",
    "  valid_dataset = save['valid_dataset']\n",
    "  valid_labels = save['valid_labels']\n",
    "  test_dataset = save['test_dataset']\n",
    "  test_labels = save['test_labels']\n",
    "  del save  # hint to help gc free up memory\n",
    "  train_labels_log=train_labels\n",
    "  valid_labels_log=valid_labels\n",
    "  print('Training set', train_dataset.shape, train_labels.shape)\n",
    "  print('Validation set', valid_dataset.shape, valid_labels.shape)\n",
    "  print('Test set', test_dataset.shape, test_labels.shape)"
   ]
  },
  {
   "cell_type": "markdown",
   "metadata": {
    "colab_type": "text",
    "id": "L7aHrm6nGDMB"
   },
   "source": [
    "Reformat into a shape that's more adapted to the models we're going to train:\n",
    "- data as a flat matrix,\n",
    "- labels as float 1-hot encodings."
   ]
  },
  {
   "cell_type": "code",
   "execution_count": 12,
   "metadata": {
    "cellView": "both",
    "colab": {
     "autoexec": {
      "startup": false,
      "wait_interval": 0
     },
     "output_extras": [
      {
       "item_id": 1
      }
     ]
    },
    "colab_type": "code",
    "executionInfo": {
     "elapsed": 11728,
     "status": "ok",
     "timestamp": 1449849322356,
     "user": {
      "color": "",
      "displayName": "",
      "isAnonymous": false,
      "isMe": true,
      "permissionId": "",
      "photoUrl": "",
      "sessionId": "0",
      "userId": ""
     },
     "user_tz": 480
    },
    "id": "IRSyYiIIGIzS",
    "outputId": "3f8996ee-3574-4f44-c953-5c8a04636582"
   },
   "outputs": [
    {
     "name": "stdout",
     "output_type": "stream",
     "text": [
      "Training set (200000, 784) (200000, 10)\n",
      "Validation set (10000, 784) (10000, 10)\n",
      "Test set (10000, 784) (10000, 10)\n"
     ]
    }
   ],
   "source": [
    "image_size = 28\n",
    "num_labels = 10\n",
    "\n",
    "def reformat(dataset, labels):\n",
    "  dataset = dataset.reshape((-1, image_size * image_size)).astype(np.float32)\n",
    "  # Map 1 to [0.0, 1.0, 0.0 ...], 2 to [0.0, 0.0, 1.0 ...]\n",
    "  labels = (np.arange(num_labels) == labels[:,None]).astype(np.float32)\n",
    "  return dataset, labels\n",
    "train_dataset, train_labels = reformat(train_dataset, train_labels)\n",
    "valid_dataset, valid_labels = reformat(valid_dataset, valid_labels)\n",
    "test_dataset, test_labels = reformat(test_dataset, test_labels)\n",
    "print('Training set', train_dataset.shape, train_labels.shape)\n",
    "print('Validation set', valid_dataset.shape, valid_labels.shape)\n",
    "print('Test set', test_dataset.shape, test_labels.shape)"
   ]
  },
  {
   "cell_type": "code",
   "execution_count": null,
   "metadata": {
    "collapsed": true
   },
   "outputs": [],
   "source": []
  },
  {
   "cell_type": "code",
   "execution_count": 0,
   "metadata": {
    "cellView": "both",
    "colab": {
     "autoexec": {
      "startup": false,
      "wait_interval": 0
     }
    },
    "colab_type": "code",
    "collapsed": true,
    "id": "RajPLaL_ZW6w"
   },
   "outputs": [],
   "source": [
    "def accuracy(predictions, labels):\n",
    "  return (100.0 * np.sum(np.argmax(predictions, 1) == np.argmax(labels, 1))\n",
    "          / predictions.shape[0])"
   ]
  },
  {
   "cell_type": "markdown",
   "metadata": {
    "colab_type": "text",
    "id": "sgLbUAQ1CW-1"
   },
   "source": [
    "---\n",
    "Problem 1\n",
    "---------\n",
    "\n",
    "Introduce and tune L2 regularization for both logistic and neural network models. Remember that L2 amounts to adding a penalty on the norm of the weights to the loss. In TensorFlow, you can compute the L2 loss for a tensor `t` using `nn.l2_loss(t)`. The right amount of regularization should improve your validation / test accuracy.\n",
    "\n",
    "---"
   ]
  },
  {
   "cell_type": "code",
   "execution_count": 24,
   "metadata": {},
   "outputs": [
    {
     "name": "stdout",
     "output_type": "stream",
     "text": [
      "0.8163\n"
     ]
    }
   ],
   "source": [
    "#introducing regularization to Logistic CLassifier\n",
    "from sklearn.metrics import accuracy_score\n",
    "from sklearn.linear_model import LogisticRegression\n",
    "subset_size=5000\n",
    "train_data_subset=train_dataset[0:subset_size,:]\n",
    "train_labels_subset=train_labels_log[0:subset_size]\n",
    "model=LogisticRegression(multi_class='multinomial',solver='lbfgs',penalty='l2',C=.01)\n",
    "model.fit(train_data_subset,train_labels_subset)\n",
    "predict_labels=model.predict(valid_dataset)\n",
    "score=accuracy_score(predict_labels,valid_labels_log)\n",
    "print(score)"
   ]
  },
  {
   "cell_type": "code",
   "execution_count": 27,
   "metadata": {},
   "outputs": [
    {
     "name": "stdout",
     "output_type": "stream",
     "text": [
      "Tensor(\"Training_Features:0\", shape=(128, 784), dtype=float32)\n",
      "Tensor(\"Training_Labels:0\", shape=(128, 10), dtype=float32)\n"
     ]
    }
   ],
   "source": [
    "#introducing regularization to Neural Network Model\n",
    "def accuracy(predictions, labels):\n",
    "  return (100.0 * np.sum(np.argmax(predictions, 1) == np.argmax(labels, 1))\n",
    "          / predictions.shape[0])\n",
    "batch_size = 128\n",
    "logpath='./tflogs/'\n",
    "Hidden_layer_Nodes=1024\n",
    "Beta=.01\n",
    "graph=tf.Graph()\n",
    "def variable_summaries(var):\n",
    "  \"\"\"Attach a lot of summaries to a Tensor (for TensorBoard visualization).\"\"\"\n",
    "  with tf.name_scope('summaries'):\n",
    "    mean = tf.reduce_mean(var)\n",
    "    tf.summary.scalar('mean', mean)\n",
    "    with tf.name_scope('stddev'):\n",
    "      stddev = tf.sqrt(tf.reduce_mean(tf.square(var - mean)))\n",
    "    tf.summary.scalar('stddev', stddev)\n",
    "    tf.summary.scalar('max', tf.reduce_max(var))\n",
    "    tf.summary.scalar('min', tf.reduce_min(var))\n",
    "    tf.summary.histogram('histogram', var)\n",
    "with graph.as_default():\n",
    "      tf_train_dataset = tf.placeholder(tf.float32,shape=(batch_size, image_size * image_size),name=\"Training_Features\")\n",
    "      tf_train_labels = tf.placeholder(tf.float32, shape=(batch_size, num_labels),name=\"Training_Labels\")\n",
    "      print(tf_train_dataset)\n",
    "      print(tf_train_labels)  \n",
    "      tf_valid_dataset = tf.constant(valid_dataset)\n",
    "      tf_test_dataset = tf.constant(test_dataset)\n",
    "      # Variables.\n",
    "      #Layer1\n",
    "      with tf.name_scope(\"Layer1\"):\n",
    "          with tf.name_scope(\"Weights\"):\n",
    "              weights_L1 = tf.Variable(tf.truncated_normal([image_size * image_size, Hidden_layer_Nodes]))\n",
    "              variable_summaries(weights_L1)\n",
    "          with tf.name_scope(\"Biases\"):\n",
    "              biases_L1 = tf.Variable(tf.zeros([Hidden_layer_Nodes]))\n",
    "              variable_summaries(biases_L1)\n",
    "      #Layer2\n",
    "      with tf.name_scope(\"Layer2\"):\n",
    "          with tf.name_scope(\"Weights\"):\n",
    "              weights_L2 = tf.Variable(tf.truncated_normal([Hidden_layer_Nodes, num_labels]))\n",
    "              variable_summaries(weights_L2)\n",
    "          with tf.name_scope(\"Biases\"):\n",
    "              biases_L2 = tf.Variable(tf.zeros([num_labels]))\n",
    "              variable_summaries(weights_L2)\n",
    "      # Training computation.      \n",
    "      logits_L1 = tf.matmul(tf_train_dataset, weights_L1) + biases_L1\n",
    "      tf.summary.histogram('Layer1_Logits',logits_L1)\n",
    "      Relu=tf.nn.relu(logits_L1)\n",
    "      tf.summary.histogram('Activations_Relu',Relu)\n",
    "      logits_L2 = tf.matmul(Relu, weights_L2) + biases_L2\n",
    "      tf.summary.histogram('Layer2_Logits',logits_L2)\n",
    "      loss = tf.reduce_mean(\n",
    "      tf.nn.softmax_cross_entropy_with_logits(labels=tf_train_labels, logits=logits_L2))\n",
    "      regularizers=tf.nn.l2_loss(weights_L1)+ tf.nn.l2_loss(weights_L2)\n",
    "      loss = loss + Beta*regularizers\n",
    "      tf.summary.histogram('Loss',loss)\n",
    "      # Optimizer.\n",
    "      with tf.name_scope(\"Train\"):\n",
    "          optimizer = tf.train.GradientDescentOptimizer(0.5).minimize(loss)\n",
    "      # Predictions for the training, validation, and test data.\n",
    "      train_prediction = tf.nn.softmax(logits_L2)\n",
    "      valid_prediction = tf.nn.softmax(tf.matmul(tf.nn.relu(tf.matmul(tf_valid_dataset, weights_L1) + biases_L1),weights_L2)+biases_L2)\n",
    "      test_prediction = tf.nn.softmax(tf.matmul(tf.nn.relu(tf.matmul(tf_test_dataset, weights_L1) + biases_L1),weights_L2)+biases_L2)\n",
    "      #Merge Summaries\n",
    "      summarize_all=tf.summary.merge_all()\n",
    "\n",
    "\n"
   ]
  },
  {
   "cell_type": "code",
   "execution_count": 29,
   "metadata": {},
   "outputs": [
    {
     "name": "stdout",
     "output_type": "stream",
     "text": [
      "Initialized\n",
      "Minibatch loss at step 0: 3453.850342\n",
      "Minibatch accuracy: 12.5%\n",
      "Validation accuracy: 30.6%\n",
      "Test accuracy: 33.7%\n",
      "Minibatch loss at step 100: 1152.986328\n",
      "Minibatch accuracy: 75.0%\n",
      "Validation accuracy: 78.8%\n",
      "Test accuracy: 86.5%\n",
      "Minibatch loss at step 200: 424.650299\n",
      "Minibatch accuracy: 77.3%\n",
      "Validation accuracy: 76.2%\n",
      "Test accuracy: 83.2%\n",
      "Minibatch loss at step 300: 153.834778\n",
      "Minibatch accuracy: 78.1%\n",
      "Validation accuracy: 82.0%\n",
      "Test accuracy: 88.9%\n",
      "Minibatch loss at step 400: 56.721504\n",
      "Minibatch accuracy: 84.4%\n",
      "Validation accuracy: 83.7%\n",
      "Test accuracy: 90.6%\n",
      "Minibatch loss at step 500: 21.199116\n",
      "Minibatch accuracy: 87.5%\n",
      "Validation accuracy: 83.7%\n",
      "Test accuracy: 90.7%\n",
      "Minibatch loss at step 600: 8.350582\n",
      "Minibatch accuracy: 84.4%\n",
      "Validation accuracy: 83.7%\n",
      "Test accuracy: 90.7%\n",
      "Minibatch loss at step 700: 3.631584\n",
      "Minibatch accuracy: 80.5%\n",
      "Validation accuracy: 83.1%\n",
      "Test accuracy: 90.4%\n",
      "Minibatch loss at step 800: 1.658815\n",
      "Minibatch accuracy: 86.7%\n",
      "Validation accuracy: 83.0%\n",
      "Test accuracy: 90.3%\n",
      "Minibatch loss at step 900: 1.192860\n",
      "Minibatch accuracy: 81.2%\n",
      "Validation accuracy: 83.4%\n",
      "Test accuracy: 90.2%\n",
      "Minibatch loss at step 1000: 0.944335\n",
      "Minibatch accuracy: 81.2%\n",
      "Validation accuracy: 83.1%\n",
      "Test accuracy: 90.2%\n"
     ]
    }
   ],
   "source": [
    "\n",
    "num_steps = 1001\n",
    "with tf.Session(graph=graph) as session:\n",
    "  tfWriter=tf.summary.FileWriter(logpath,session.graph)\n",
    "  tf.global_variables_initializer().run()\n",
    "  print(\"Initialized\")\n",
    "  for step in range(num_steps):\n",
    "    # Pick an offset within the training data, which has been randomized.\n",
    "    # Note: we could use better randomization across epochs.\n",
    "    offset = (step * batch_size) % (train_labels.shape[0] - batch_size)\n",
    "    # Generate a minibatch.\n",
    "    batch_data = train_dataset[offset:(offset + batch_size), :]\n",
    "    batch_labels = train_labels[offset:(offset + batch_size), :]\n",
    "    # Prepare a dictionary telling the session where to feed the minibatch.\n",
    "    # The key of the dictionary is the placeholder node of the graph to be fed,\n",
    "    # and the value is the numpy array to feed to it.\n",
    "    feed_dict = {tf_train_dataset : batch_data, tf_train_labels : batch_labels}\n",
    "    _, l, predictions,summary = session.run([optimizer, loss, train_prediction,summarize_all], feed_dict=feed_dict)\n",
    "    if (step % 100 == 0):\n",
    "      print(\"Minibatch loss at step %d: %f\" % (step, l))\n",
    "      print(\"Minibatch accuracy: %.1f%%\" % accuracy(predictions, batch_labels))\n",
    "      print(\"Validation accuracy: %.1f%%\" % accuracy(valid_prediction.eval(), valid_labels))\n",
    "      print(\"Test accuracy: %.1f%%\" % accuracy(test_prediction.eval(), test_labels))\n",
    "      tfWriter.add_summary(summary,step)\n",
    "\n"
   ]
  },
  {
   "cell_type": "markdown",
   "metadata": {
    "colab_type": "text",
    "id": "na8xX2yHZzNF"
   },
   "source": [
    "---\n",
    "Problem 2\n",
    "---------\n",
    "Let's demonstrate an extreme case of overfitting. Restrict your training data to just a few batches. What happens?\n",
    "\n",
    "---"
   ]
  },
  {
   "cell_type": "code",
   "execution_count": 31,
   "metadata": {},
   "outputs": [
    {
     "name": "stdout",
     "output_type": "stream",
     "text": [
      "Initialized\n",
      "Minibatch loss at step 0: 3491.104492\n",
      "Minibatch accuracy: 11.7%\n",
      "Validation accuracy: 33.3%\n",
      "Test accuracy: 35.8%\n",
      "Minibatch loss at step 100: 1150.539551\n",
      "Minibatch accuracy: 91.4%\n",
      "Validation accuracy: 79.4%\n",
      "Test accuracy: 86.7%\n",
      "Minibatch loss at step 200: 421.762451\n",
      "Minibatch accuracy: 96.1%\n",
      "Validation accuracy: 78.7%\n",
      "Test accuracy: 85.8%\n",
      "Minibatch loss at step 300: 154.681000\n",
      "Minibatch accuracy: 100.0%\n",
      "Validation accuracy: 80.9%\n",
      "Test accuracy: 88.0%\n",
      "Minibatch loss at step 400: 56.931324\n",
      "Minibatch accuracy: 100.0%\n",
      "Validation accuracy: 81.8%\n",
      "Test accuracy: 88.8%\n",
      "Minibatch loss at step 500: 21.277807\n",
      "Minibatch accuracy: 98.4%\n",
      "Validation accuracy: 83.3%\n",
      "Test accuracy: 90.4%\n",
      "Minibatch loss at step 600: 8.252136\n",
      "Minibatch accuracy: 96.9%\n",
      "Validation accuracy: 83.3%\n",
      "Test accuracy: 90.3%\n",
      "Minibatch loss at step 700: 3.496755\n",
      "Minibatch accuracy: 93.8%\n",
      "Validation accuracy: 82.1%\n",
      "Test accuracy: 89.4%\n",
      "Minibatch loss at step 800: 1.862516\n",
      "Minibatch accuracy: 88.3%\n",
      "Validation accuracy: 83.3%\n",
      "Test accuracy: 90.4%\n",
      "Minibatch loss at step 900: 1.122335\n",
      "Minibatch accuracy: 87.5%\n",
      "Validation accuracy: 83.1%\n",
      "Test accuracy: 90.0%\n",
      "Minibatch loss at step 1000: 0.874954\n",
      "Minibatch accuracy: 89.8%\n",
      "Validation accuracy: 81.5%\n",
      "Test accuracy: 88.2%\n"
     ]
    }
   ],
   "source": [
    "num_steps = 1001\n",
    "train_data_subset=train_dataset[0:5000,:]\n",
    "train_labels_subset=train_labels[0:5000]\n",
    "with tf.Session(graph=graph) as session:\n",
    "  tfWriter=tf.summary.FileWriter(logpath,session.graph)\n",
    "  tf.global_variables_initializer().run()\n",
    "  print(\"Initialized\")\n",
    "  for step in range(num_steps):\n",
    "    # Pick an offset within the training data, which has been randomized.\n",
    "    # Note: we could use better randomization across epochs.\n",
    "    offset = (step * batch_size) % (train_labels_subset.shape[0] - batch_size)\n",
    "    # Generate a minibatch.\n",
    "    batch_data = train_data_subset[offset:(offset + batch_size), :]\n",
    "    batch_labels = train_labels_subset[offset:(offset + batch_size), :]\n",
    "    # Prepare a dictionary telling the session where to feed the minibatch.\n",
    "    # The key of the dictionary is the placeholder node of the graph to be fed,\n",
    "    # and the value is the numpy array to feed to it.\n",
    "    feed_dict = {tf_train_dataset : batch_data, tf_train_labels : batch_labels}\n",
    "    _, l, predictions,summary = session.run([optimizer, loss, train_prediction,summarize_all], feed_dict=feed_dict)\n",
    "    if (step % 100 == 0):\n",
    "      print(\"Minibatch loss at step %d: %f\" % (step, l))\n",
    "      print(\"Minibatch accuracy: %.1f%%\" % accuracy(predictions, batch_labels))\n",
    "      print(\"Validation accuracy: %.1f%%\" % accuracy(valid_prediction.eval(), valid_labels))\n",
    "      print(\"Test accuracy: %.1f%%\" % accuracy(test_prediction.eval(), test_labels))\n",
    "      tfWriter.add_summary(summary,step)"
   ]
  },
  {
   "cell_type": "markdown",
   "metadata": {
    "colab_type": "text",
    "id": "ww3SCBUdlkRc"
   },
   "source": [
    "---\n",
    "Problem 3\n",
    "---------\n",
    "Introduce Dropout on the hidden layer of the neural network. Remember: Dropout should only be introduced during training, not evaluation, otherwise your evaluation results would be stochastic as well. TensorFlow provides `nn.dropout()` for that, but you have to make sure it's only inserted during training.\n",
    "\n",
    "What happens to our extreme overfitting case?\n",
    "\n",
    "---"
   ]
  },
  {
   "cell_type": "markdown",
   "metadata": {
    "colab_type": "text",
    "id": "-b1hTz3VWZjw"
   },
   "source": [
    "---\n",
    "Problem 4\n",
    "---------\n",
    "\n",
    "Try to get the best performance you can using a multi-layer model! The best reported test accuracy using a deep network is [97.1%](http://yaroslavvb.blogspot.com/2011/09/notmnist-dataset.html?showComment=1391023266211#c8758720086795711595).\n",
    "\n",
    "One avenue you can explore is to add multiple layers.\n",
    "\n",
    "Another one is to use learning rate decay:\n",
    "\n",
    "    global_step = tf.Variable(0)  # count the number of steps taken.\n",
    "    learning_rate = tf.train.exponential_decay(0.5, global_step, ...)\n",
    "    optimizer = tf.train.GradientDescentOptimizer(learning_rate).minimize(loss, global_step=global_step)\n",
    " \n",
    " ---\n"
   ]
  }
 ],
 "metadata": {
  "colab": {
   "default_view": {},
   "name": "3_regularization.ipynb",
   "provenance": [],
   "version": "0.3.2",
   "views": {}
  },
  "kernelspec": {
   "display_name": "Python 3",
   "language": "python",
   "name": "python3"
  },
  "language_info": {
   "codemirror_mode": {
    "name": "ipython",
    "version": 3
   },
   "file_extension": ".py",
   "mimetype": "text/x-python",
   "name": "python",
   "nbconvert_exporter": "python",
   "pygments_lexer": "ipython3",
   "version": "3.5.0"
  }
 },
 "nbformat": 4,
 "nbformat_minor": 1
}
